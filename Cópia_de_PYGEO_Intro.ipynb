{
  "nbformat": 4,
  "nbformat_minor": 0,
  "metadata": {
    "colab": {
      "provenance": [],
      "include_colab_link": true
    },
    "kernelspec": {
      "name": "python3",
      "display_name": "Python 3"
    },
    "language_info": {
      "name": "python"
    }
  },
  "cells": [
    {
      "cell_type": "markdown",
      "metadata": {
        "id": "view-in-github",
        "colab_type": "text"
      },
      "source": [
        "<a href=\"https://colab.research.google.com/github/paulo567900/paulo567900/blob/main/C%C3%B3pia_de_PYGEO_Intro.ipynb\" target=\"_parent\"><img src=\"https://colab.research.google.com/assets/colab-badge.svg\" alt=\"Open In Colab\"/></a>"
      ]
    },
    {
      "cell_type": "markdown",
      "source": [
        "# **<center>PYGEO - INTRODUÇÃO AO PYTHON PARA GEOPROCESSAMENTO<center>**\n",
        "\n",
        "\n",
        "<center> Prof Vanessa Bastos <center>\n",
        "<center> Envie suas dúvidas para: gisdoctor@clickgeo.com.br <center>"
      ],
      "metadata": {
        "id": "55-9l8v75qp-"
      }
    },
    {
      "cell_type": "markdown",
      "source": [
        "Durante esse curso você aprenderá as bases para manipular e analisar dados espaciais no Python. Mais especificamente, exploraremos os seguintes tópicos:\n",
        "\n",
        "\n",
        "1.   Ler/escrever dados espaciais em diferentes formatos\n",
        "2.   Manipulação de sistemas de coordenadas\n",
        "3.   Operações geométricas e consultas espaciais\n",
        "4.   Geocodificação de endereços e geocodificação inversa\n",
        "5.   Reclassificação de dados\n",
        "6.   Obtendo dados do OpenStreetMap (OSM)\n",
        "7.   Introdução ao processamento de dados raster no Python\n",
        "8.   Visualização de dados e criação de mapas estáticos e interativos\n",
        "\n",
        "\n",
        "\n",
        "\n",
        "\n"
      ],
      "metadata": {
        "id": "cedNTMqq6E6l"
      }
    },
    {
      "cell_type": "markdown",
      "source": [
        "**Porque Python para geoprocessamento?**\n",
        "\n",
        "O Python é uma linguagem extremamente útil para profissionais do geoprocessamento,a maioria dos software GIS (como ArcGIS, QGIS, PostGIS etc.) fornecem uma interface para utilização do Python. Entretanto, neste curso focaremos no geoprocessamento sem nenhum software de terceiros. Existem várias razões para fazer geoprocessamento usando Python sem nenhum software adicional:\n",
        "\n",
        "1. Tudo é grátis: você não precisa comprar uma licença cara para ArcGIS (por exemplo)\n",
        "2. Você aprenderá e entenderá muito mais profundamente como funcionam as diferentes operações de geoprocessamento\n",
        "4. Python é altamente eficiente: usado para analisar Big Data\n",
        "5. Python é altamente flexível: suporta todos os formatos de dados que você possa imaginar\n",
        "6. O uso de Python (ou qualquer outra linguagem de programação de código aberto) suporta softwares e código aberto, possibilitando que todos reproduzam seu trabalho gratuitamente.\n",
        "7. Você pode  conectar plugins e diferentes softwares de terceiros para construir, por exemplo, um aplicativo web-GIS sofisticado e customizado (usando, por exemplo, GeoDjango com PostGIS como back-end)\n",
        "\n",
        "\n"
      ],
      "metadata": {
        "id": "E7K5Y7B595L3"
      }
    },
    {
      "cell_type": "markdown",
      "source": [
        "**Quais ferramentas estão disponíveis para geoprocessamento no Python**?\n",
        "\n",
        "Durante o curso, nos familiarizaremos com alguns módulos Python que são úteis ao fazer análise de dados e diferentes tarefas de geoprocessamento.\n",
        "\n",
        "Uma desvantagem do Python quando comparado ao uso de um software GIS específico, como o ArcGIS, é que as ferramentas GIS essão distribuídas em diferentes bibliotecas e foram criadas por diferentes desenvolvedores. Isso significa que você precisa se familiarizar com muitos módulos diferentes (e sua documentação), enquanto, por exemplo, no ArcGIS tudo é empacotado em um mesmo módulo chamado arcpy.\n",
        "\n",
        "Abaixo está uma lista de bibliotecas úteis (e links para seus documentos) que ajudam você a fazer análises de dados e geoprocessamento em Python. É altamente recomendável ler a documentação dos módulos que você usa:\n",
        "\n",
        "* Análise e visualização de dados:\n",
        "> * [Numpy](https://numpy.org/doc/stable/user/): Pacote fundamental para computação científica e manipualção de matrizes e vetores no Python\n",
        "> * [Pandas](https://pandas.pydata.org/docs/user_guide/index.html): Estruturas e ferramentas de análise de dados fáceis de usar e de alto desempenho\n",
        "> * [Scipy](https://docs.scipy.org/doc/scipy/): Uma coleção de algoritmos e caixas de ferramentas específicas para processamento de sinal, otimização de modelos e estatística\n",
        "> * [Statsmodels](https://www.statsmodels.org/stable/index.html): Modelos estatísticos para Python\n",
        "> * [Scikit-learn](https://scikit-learn.org/stable/): Aprendizado de máquina para Python (classificação, regressão, clustering, etc.)\n",
        "> * [Matplotlib](https://matplotlib.org/): Biblioteca para criar gráficos e visualizações de dados\n",
        "> * [Seaborn](https://seaborn.pydata.org/tutorial.html): Visualização de dados estatísticos\n",
        "> * [Bokeh](https://docs.bokeh.org/en/latest/docs/user_guide.html): Visualizações interativas para a web (também mapas)\n",
        "> * [Plotly](https://plotly.com/python/getting-started/): Visualizações interativas (também mapas) para a web (comercial - grátis para fins educacionais)\n",
        "> * [Dash](https://dash.plotly.com/): Construindo aplicativos web analíticos com Python (sem necessidade de Javascript)\n",
        "\n",
        "* Geoprocessamento:\n",
        "> * [GDAL](https://gdal.org/api/python.html): Pacote fundamental para processamento de formatos de dados vetoriais e raster (muitos módulos abaixo dependem disso).\n",
        "> * [Geopandas](https://geopandas.org/en/stable/): Trabalhar com dados geoespaciais em Python ficou mais fácil, combina os recursos dos pandas e do shapely.\n",
        "> * [Shapely](https://shapely.readthedocs.io/en/stable/manual.html): Pacote Python para manipulação e análise de objetos geométricos .\n",
        "> * [Fiona](https://fiona.readthedocs.io/en/latest/manual.html): Leitura e escrita de dados espaciais (alternativa para geopandas).\n",
        "> * [Pyproj](https://pyproj4.github.io/pyproj/stable/): Realiza transformações cartográficas e cálculos geodésicos (com base no PROJ.4).\n",
        "> * [PyCRS](https://github.com/karimbahgat/PyCRS): Trabalhando facilmente com diferentes especificações CRS (EPSG, ESRI, Proj4)\n",
        "> * [Pysal](https://pysal.org/pysal/): Biblioteca de funções de análise espacial escritas em Python.\n",
        "> * [Geopy](https://geopy.readthedocs.io/en/stable/): Biblioteca de geocodificação.\n",
        ">*[GeoViews](https://geoviews.org/user_guide/index.html): Mapas interativos para a web.\n",
        ">* [Geoplot](https://github.com/ResidentMario/geoplot): Biblioteca de visualização de dados geoespaciais de alto nível para Python.\n",
        ">*[GeoNotebook](https://github.com/OpenGeoscience/geonotebook): Ambiente de desktop GIS para visualizar e interagir com dados espaciais usando Python (baseado em Jupyter Notebooks)\n",
        ">*[OSMnx](https://github.com/gboeing/osmnx): Recupere, construa, analise e visualize redes de ruas do OpenStreetMap\n",
        ">*[Networkx](https://networkx.org/documentation/networkx-1.10/overview.html): Análise e roteamento de rede em Python.\n",
        ">*[Cartopy](https://scitools.org.uk/cartopy/docs/latest/index.html):Faça mapas para análise e visualização de dados da froma mais fácil possível.\n",
        ">*[Scipy.spatial](https://docs.scipy.org/doc/scipy/reference/spatial.html): Algoritmos espaciais e estruturas de dados.\n",
        ">*[Rtree](https://toblerity.org/rtree/): Indexação espacial para Python para pesquisas rápidas.\n",
        ">*[Rasterio](https://rasterio.readthedocs.io/en/latest/):Manipulação de dados matriciais no Python.\n",
        ">*[Rasterstats](https://pythonhosted.org/rasterstats/): Um módulo para resumir conjuntos de dados raster com base em geometrias vetoriais (por exemplo, conduzir estatísticas zonais).\n",
        ">*[RSGISLib](http://rsgislib.org/index.html#python-documentation): Biblioteca de Software de Sensoriamento Remoto e geoprocessamento para Python."
      ],
      "metadata": {
        "id": "Q7PmXP-L7lYq"
      }
    },
    {
      "cell_type": "markdown",
      "source": [
        "# **Acesse aqui o Colab dos módulos de aula**\n"
      ],
      "metadata": {
        "id": "eKy4O4PwUlaW"
      }
    },
    {
      "cell_type": "markdown",
      "source": [
        "Aqui você encontra as versões utilizadas na gravação das aulas de cada módulo. que contém mais comentários e detalhes. Recomendo que use essas versões para estudo e impressão.\n",
        "\n",
        "[M1 - Geometrias: Modelo vetorial de dados espaciais](https://colab.research.google.com/drive/1hOsO7TkuWQbnGx7-Imy1qcw03-I248mp?usp=sharing)\n",
        "\n",
        "[M2 - Dados espaciais e projeções com a biblioteca Geopandas](https://colab.research.google.com/drive/1sg9j0xFYTmxDa0XexURR6SOxjGtSiYnK?usp=sharing)\n",
        "\n",
        "[M3 - Geocodificação, consultas espaciais e concatenação de tabelas](https://colab.research.google.com/drive/1otE04z6W6ABMn1AVOjcgYCOSTUKNhq7Q?usp=sharing)\n",
        "\n",
        "[M4 - Trabalhando com dados OSM,  análise de vizinhança e reclassificação de dados](https://colab.research.google.com/drive/1o6UXUnH4jYGgP9pZxZ9eO9N5GebqGGvH?usp=sharing)\n",
        "\n",
        "\n",
        "[M5 - Criando mapas no Python](https://colab.research.google.com/drive/15dEUBsTln1cFi0tqKa8wFQuFmvqsybpt?usp=sharing)\n",
        "\n",
        "\n",
        "[M6 - Manipulação de dados matriciais (raster)](https://colab.research.google.com/drive/17EIMLXu3Bp0c_RnM7db-9fYoaYlY9ZHx?usp=sharing)\n"
      ],
      "metadata": {
        "id": "N9gDQrdIKv9R"
      }
    },
    {
      "cell_type": "markdown",
      "source": [
        "# **Acesse aqui o Colab com o enunciado dos exercícios de cada módulo**\n",
        "\n"
      ],
      "metadata": {
        "id": "dGlbvQRdCxd5"
      }
    },
    {
      "cell_type": "markdown",
      "source": [
        "[E1 - Trabalhando com geometrias](https://colab.research.google.com/drive/1YvcbeOi0zG1azGvzQ9Rs11ElMLHTDQyH?usp=sharing)\n",
        "\n",
        "[E2 - Trabalhando com sistemas de coordenadas](https://colab.research.google.com/drive/1nwkfLZ8NjKKmsnyAspDIHJfkM7Q_6Vyk?usp=sharing)\n",
        "\n",
        "[E3 - Trabalhando com geocodificação e concatenação espacial](https://colab.research.google.com/drive/1G4lgkWbLEKeoiydtGep8rI6kv1c_xFbn)\n",
        "\n",
        "[E4 - Trabalhando com dados OSM, análise de vizinhança e reclassificação de dados ](https://colab.research.google.com/drive/1vfWkwmyIDudeiOA1FdfHMR2erUJNOxHb?usp=sharing)\n",
        "\n",
        "[E5 - Criando mapas no Python ](https://colab.research.google.com/drive/1IH8Pd8G5HRURcXtV_BOT1FXQLLmYob0O?usp=sharing)\n",
        "\n",
        "[E6 - Manipulação de dados matriciais (raster)](https://colab.research.google.com/drive/1h7WHZP2AHUnpcC6zMy05ZMppo-6_rM34?usp=sharing)\n"
      ],
      "metadata": {
        "id": "y3-D1-8ACsNH"
      }
    },
    {
      "cell_type": "markdown",
      "source": [
        "# **Acesse aqui o Colab com a resolução dos exercícios**\n",
        "\n",
        "Recomendo que use essas versões para estudo e impressão.\n",
        "\n",
        "[E1 - Trabalhando com geometrias](https://colab.research.google.com/drive/1Cmmu5en78xZ7zQW1QIkV9eaKuV8tCzm7?usp=sharing)\n",
        "\n",
        "[E2 - Trabalhando com sistemas de coordenadas](https://colab.research.google.com/drive/1kQ1FYqyczXrKrBOxyNK6ciyz1Yvul_st?usp=sharing)\n",
        "\n",
        "[E3 - Trabalhando com geocodificação e concatenação espacial](https://colab.research.google.com/drive/1W3IMRbjW1qia-F7Y5HWQwUI6HwBzyKR9?usp=sharing)\n",
        "\n",
        "[E4 - Trabalhando com dados OSM,  análise de vizinhança e reclassificação de dados](https://colab.research.google.com/drive/1ZCYv-tq4Vg9-SfplhXBzzAJVWQJPEpwN?usp=sharing)\n",
        "\n",
        "[E5 - Criando mapas no Python](https://colab.research.google.com/drive/1nfsoTKDK2IHf-v_VH7tQlzNIqSaoBr-V?usp=sharing)\n",
        "\n",
        "[E6 - Manipulação de dados matriciais (raster)](https://colab.research.google.com/drive/1CkSN_6nbI_pR-saRGIEoy7yezItc3wmF?usp=sharing)\n",
        "\n",
        "\n"
      ],
      "metadata": {
        "id": "2-SgAecXRLjA"
      }
    },
    {
      "cell_type": "markdown",
      "source": [
        "**Literatura útil em português**\n",
        "\n",
        "* [Livro Pense Python](https://penseallen.github.io/PensePython2e/) - Versão eletrônica gratuita\n",
        "* [Livro Python para Todos](http://do1.dr-chuck.com/pythonlearn/PT_br/pythonlearn.pdf) - Versão PDF Gratuita\n",
        "\n",
        "**Literatura útil em inglês**\n",
        "\n",
        "* [Learning Geospatial Analysis with Python](https://www.amazon.com/Learning-Geospatial-Analysis-Python-fundamentals-dp-1789959276/dp/1789959276/ref=dp_ob_title_bk)\n",
        "\n",
        "* [Python for Geospatial Data Analysis: Theory, Tools, and Practice for Location Intelligence](https://www.amazon.com/Python-Geospatial-Data-Analysis-Intelligence/dp/109810479X#customerReviews)\n",
        "\n",
        "* [How To Code in Python](https://www.digitalocean.com/community/books/digitalocean-ebook-how-to-code-in-python) - Versão eletrônica gratuita\n",
        "\n",
        "* [Troubleshooting Coordinate Reference Systems](https://ihatecoordinatesystems.com/) - Versão eletrônica gratuita\n",
        "\n",
        "\n"
      ],
      "metadata": {
        "id": "KPF2mpm7GNJ2"
      }
    },
    {
      "cell_type": "markdown",
      "source": [
        "Nenhuma parte do material deste curso pode ser utilizado ou reproduzido sob quaisquer meios existentes sem autorização expressa, por escrito, da autora. Todos os direitos reservados 2023."
      ],
      "metadata": {
        "id": "mlWLJ-pBdA4V"
      }
    }
  ]
}